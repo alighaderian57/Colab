{
  "nbformat": 4,
  "nbformat_minor": 0,
  "metadata": {
    "colab": {
      "provenance": [],
      "gpuType": "T4",
      "authorship_tag": "ABX9TyNX4B8xyzdEG6mrWbidHxBp",
      "include_colab_link": true
    },
    "kernelspec": {
      "name": "python3",
      "display_name": "Python 3"
    },
    "language_info": {
      "name": "python"
    },
    "accelerator": "GPU"
  },
  "cells": [
    {
      "cell_type": "markdown",
      "metadata": {
        "id": "view-in-github",
        "colab_type": "text"
      },
      "source": [
        "<a href=\"https://colab.research.google.com/github/alighaderian57/Colab/blob/main/easyOCR.ipynb\" target=\"_parent\"><img src=\"https://colab.research.google.com/assets/colab-badge.svg\" alt=\"Open In Colab\"/></a>"
      ]
    },
    {
      "cell_type": "code",
      "source": [
        "pip install easyocr"
      ],
      "metadata": {
        "colab": {
          "base_uri": "https://localhost:8080/"
        },
        "id": "4ysZTWy_IKeX",
        "outputId": "c0c7c184-e322-42fe-b8a6-38ce386255fc"
      },
      "execution_count": null,
      "outputs": [
        {
          "output_type": "stream",
          "name": "stdout",
          "text": [
            "Collecting easyocr\n",
            "  Downloading easyocr-1.7.1-py3-none-any.whl (2.9 MB)\n",
            "\u001b[2K     \u001b[90m━━━━━━━━━━━━━━━━━━━━━━━━━━━━━━━━━━━━━━━━\u001b[0m \u001b[32m2.9/2.9 MB\u001b[0m \u001b[31m10.0 MB/s\u001b[0m eta \u001b[36m0:00:00\u001b[0m\n",
            "\u001b[?25hRequirement already satisfied: torch in /usr/local/lib/python3.10/dist-packages (from easyocr) (2.3.0+cu121)\n",
            "Requirement already satisfied: torchvision>=0.5 in /usr/local/lib/python3.10/dist-packages (from easyocr) (0.18.0+cu121)\n",
            "Requirement already satisfied: opencv-python-headless in /usr/local/lib/python3.10/dist-packages (from easyocr) (4.9.0.80)\n",
            "Requirement already satisfied: scipy in /usr/local/lib/python3.10/dist-packages (from easyocr) (1.11.4)\n",
            "Requirement already satisfied: numpy in /usr/local/lib/python3.10/dist-packages (from easyocr) (1.25.2)\n",
            "Requirement already satisfied: Pillow in /usr/local/lib/python3.10/dist-packages (from easyocr) (9.4.0)\n",
            "Requirement already satisfied: scikit-image in /usr/local/lib/python3.10/dist-packages (from easyocr) (0.19.3)\n",
            "Collecting python-bidi (from easyocr)\n",
            "  Downloading python_bidi-0.4.2-py2.py3-none-any.whl (30 kB)\n",
            "Requirement already satisfied: PyYAML in /usr/local/lib/python3.10/dist-packages (from easyocr) (6.0.1)\n",
            "Requirement already satisfied: Shapely in /usr/local/lib/python3.10/dist-packages (from easyocr) (2.0.4)\n",
            "Collecting pyclipper (from easyocr)\n",
            "  Downloading pyclipper-1.3.0.post5-cp310-cp310-manylinux_2_12_x86_64.manylinux2010_x86_64.whl (908 kB)\n",
            "\u001b[2K     \u001b[90m━━━━━━━━━━━━━━━━━━━━━━━━━━━━━━━━━━━━━━━━\u001b[0m \u001b[32m908.3/908.3 kB\u001b[0m \u001b[31m32.5 MB/s\u001b[0m eta \u001b[36m0:00:00\u001b[0m\n",
            "\u001b[?25hCollecting ninja (from easyocr)\n",
            "  Downloading ninja-1.11.1.1-py2.py3-none-manylinux1_x86_64.manylinux_2_5_x86_64.whl (307 kB)\n",
            "\u001b[2K     \u001b[90m━━━━━━━━━━━━━━━━━━━━━━━━━━━━━━━━━━━━━━━━\u001b[0m \u001b[32m307.2/307.2 kB\u001b[0m \u001b[31m25.4 MB/s\u001b[0m eta \u001b[36m0:00:00\u001b[0m\n",
            "\u001b[?25hRequirement already satisfied: filelock in /usr/local/lib/python3.10/dist-packages (from torch->easyocr) (3.14.0)\n",
            "Requirement already satisfied: typing-extensions>=4.8.0 in /usr/local/lib/python3.10/dist-packages (from torch->easyocr) (4.11.0)\n",
            "Requirement already satisfied: sympy in /usr/local/lib/python3.10/dist-packages (from torch->easyocr) (1.12)\n",
            "Requirement already satisfied: networkx in /usr/local/lib/python3.10/dist-packages (from torch->easyocr) (3.3)\n",
            "Requirement already satisfied: jinja2 in /usr/local/lib/python3.10/dist-packages (from torch->easyocr) (3.1.4)\n",
            "Requirement already satisfied: fsspec in /usr/local/lib/python3.10/dist-packages (from torch->easyocr) (2023.6.0)\n",
            "Collecting nvidia-cuda-nvrtc-cu12==12.1.105 (from torch->easyocr)\n",
            "  Using cached nvidia_cuda_nvrtc_cu12-12.1.105-py3-none-manylinux1_x86_64.whl (23.7 MB)\n",
            "Collecting nvidia-cuda-runtime-cu12==12.1.105 (from torch->easyocr)\n",
            "  Using cached nvidia_cuda_runtime_cu12-12.1.105-py3-none-manylinux1_x86_64.whl (823 kB)\n",
            "Collecting nvidia-cuda-cupti-cu12==12.1.105 (from torch->easyocr)\n",
            "  Using cached nvidia_cuda_cupti_cu12-12.1.105-py3-none-manylinux1_x86_64.whl (14.1 MB)\n",
            "Collecting nvidia-cudnn-cu12==8.9.2.26 (from torch->easyocr)\n",
            "  Using cached nvidia_cudnn_cu12-8.9.2.26-py3-none-manylinux1_x86_64.whl (731.7 MB)\n",
            "Collecting nvidia-cublas-cu12==12.1.3.1 (from torch->easyocr)\n",
            "  Using cached nvidia_cublas_cu12-12.1.3.1-py3-none-manylinux1_x86_64.whl (410.6 MB)\n",
            "Collecting nvidia-cufft-cu12==11.0.2.54 (from torch->easyocr)\n",
            "  Using cached nvidia_cufft_cu12-11.0.2.54-py3-none-manylinux1_x86_64.whl (121.6 MB)\n",
            "Collecting nvidia-curand-cu12==10.3.2.106 (from torch->easyocr)\n",
            "  Using cached nvidia_curand_cu12-10.3.2.106-py3-none-manylinux1_x86_64.whl (56.5 MB)\n",
            "Collecting nvidia-cusolver-cu12==11.4.5.107 (from torch->easyocr)\n",
            "  Using cached nvidia_cusolver_cu12-11.4.5.107-py3-none-manylinux1_x86_64.whl (124.2 MB)\n",
            "Collecting nvidia-cusparse-cu12==12.1.0.106 (from torch->easyocr)\n",
            "  Using cached nvidia_cusparse_cu12-12.1.0.106-py3-none-manylinux1_x86_64.whl (196.0 MB)\n",
            "Collecting nvidia-nccl-cu12==2.20.5 (from torch->easyocr)\n",
            "  Using cached nvidia_nccl_cu12-2.20.5-py3-none-manylinux2014_x86_64.whl (176.2 MB)\n",
            "Collecting nvidia-nvtx-cu12==12.1.105 (from torch->easyocr)\n",
            "  Using cached nvidia_nvtx_cu12-12.1.105-py3-none-manylinux1_x86_64.whl (99 kB)\n",
            "Requirement already satisfied: triton==2.3.0 in /usr/local/lib/python3.10/dist-packages (from torch->easyocr) (2.3.0)\n",
            "Collecting nvidia-nvjitlink-cu12 (from nvidia-cusolver-cu12==11.4.5.107->torch->easyocr)\n",
            "  Downloading nvidia_nvjitlink_cu12-12.5.40-py3-none-manylinux2014_x86_64.whl (21.3 MB)\n",
            "\u001b[2K     \u001b[90m━━━━━━━━━━━━━━━━━━━━━━━━━━━━━━━━━━━━━━━━\u001b[0m \u001b[32m21.3/21.3 MB\u001b[0m \u001b[31m57.1 MB/s\u001b[0m eta \u001b[36m0:00:00\u001b[0m\n",
            "\u001b[?25hRequirement already satisfied: six in /usr/local/lib/python3.10/dist-packages (from python-bidi->easyocr) (1.16.0)\n",
            "Requirement already satisfied: imageio>=2.4.1 in /usr/local/lib/python3.10/dist-packages (from scikit-image->easyocr) (2.31.6)\n",
            "Requirement already satisfied: tifffile>=2019.7.26 in /usr/local/lib/python3.10/dist-packages (from scikit-image->easyocr) (2024.5.10)\n",
            "Requirement already satisfied: PyWavelets>=1.1.1 in /usr/local/lib/python3.10/dist-packages (from scikit-image->easyocr) (1.6.0)\n",
            "Requirement already satisfied: packaging>=20.0 in /usr/local/lib/python3.10/dist-packages (from scikit-image->easyocr) (24.0)\n",
            "Requirement already satisfied: MarkupSafe>=2.0 in /usr/local/lib/python3.10/dist-packages (from jinja2->torch->easyocr) (2.1.5)\n",
            "Requirement already satisfied: mpmath>=0.19 in /usr/local/lib/python3.10/dist-packages (from sympy->torch->easyocr) (1.3.0)\n",
            "Installing collected packages: pyclipper, ninja, python-bidi, nvidia-nvtx-cu12, nvidia-nvjitlink-cu12, nvidia-nccl-cu12, nvidia-curand-cu12, nvidia-cufft-cu12, nvidia-cuda-runtime-cu12, nvidia-cuda-nvrtc-cu12, nvidia-cuda-cupti-cu12, nvidia-cublas-cu12, nvidia-cusparse-cu12, nvidia-cudnn-cu12, nvidia-cusolver-cu12, easyocr\n",
            "Successfully installed easyocr-1.7.1 ninja-1.11.1.1 nvidia-cublas-cu12-12.1.3.1 nvidia-cuda-cupti-cu12-12.1.105 nvidia-cuda-nvrtc-cu12-12.1.105 nvidia-cuda-runtime-cu12-12.1.105 nvidia-cudnn-cu12-8.9.2.26 nvidia-cufft-cu12-11.0.2.54 nvidia-curand-cu12-10.3.2.106 nvidia-cusolver-cu12-11.4.5.107 nvidia-cusparse-cu12-12.1.0.106 nvidia-nccl-cu12-2.20.5 nvidia-nvjitlink-cu12-12.5.40 nvidia-nvtx-cu12-12.1.105 pyclipper-1.3.0.post5 python-bidi-0.4.2\n"
          ]
        }
      ]
    },
    {
      "cell_type": "code",
      "source": [],
      "metadata": {
        "id": "W-MXM06rN174"
      },
      "execution_count": null,
      "outputs": []
    },
    {
      "cell_type": "code",
      "source": [
        "import easyocr"
      ],
      "metadata": {
        "id": "zQgb2cK8KbV2"
      },
      "execution_count": null,
      "outputs": []
    },
    {
      "cell_type": "code",
      "execution_count": null,
      "metadata": {
        "id": "xLPxrsGeHqxt"
      },
      "outputs": [],
      "source": [
        "def process(path):\n",
        "  reader = easyocr.Reader(['fa','en'])\n",
        "  result = reader.readtext(image= path)\n",
        "  return result"
      ]
    },
    {
      "cell_type": "code",
      "source": [
        "def print_text(result):\n",
        "  print(\"*****************************************\")\n",
        "  for (bbox, text, prob) in result:\n",
        "    print(text, end=\"\")\n",
        "  print(\"/n\")\n"
      ],
      "metadata": {
        "id": "2rz2Oct9JjoP"
      },
      "execution_count": null,
      "outputs": []
    },
    {
      "cell_type": "code",
      "source": [
        "path = [\"/content/1.jpg\", \"/content/2.jpg\", \"/content/3.jpg\", \"/content/4.jpg\"]\n",
        "for item in path:\n",
        "        temp = process(item)\n",
        "        print_text(temp)"
      ],
      "metadata": {
        "colab": {
          "base_uri": "https://localhost:8080/"
        },
        "id": "D_NIbuwKKKqn",
        "outputId": "86ef3a59-e80e-439f-fd33-3756e52738b8"
      },
      "execution_count": null,
      "outputs": [
        {
          "output_type": "stream",
          "name": "stdout",
          "text": [
            "*****************************************\n",
            "٧اMذ 8لا50 4Gابنامحضرت پبزجبی گای وبّل انسشوع بغرین وارد زبر راسطالمغرده دسهسییدرّنای راحلربن ب این نکاتعل غاسبد . اسیداست باتهش وترین-مادم ناداری فرت قبزای انخاخش دولنابی برپس ترماتداحوب دبا دنّت ثهاوكربارازروی دیسنپی رده دبا آرای نولسی برای کپی ازکاغذا. تندپپست ياکال استفادهنی )تیسپس بادتت رونولیی سیدیپ ازباتمام رساندن دیسادترنیات ابچس دهی دانیدازتن ایکتب غلفشل ننابای فاربی دوره ابتدا ییحبترین اسناد0 ند .٥- برای نرشتن ازکاغدخط داداستا دبنید ونزمدا داخودکارودوس د ردان نريي برای ذشن مناسب بتند .درزشن مجدکرده دآست ترینهیساکا اترین کرده فسرانگرفة ایدیبعدی راث دغ کسیدبل ازانک/n\n",
            "*****************************************\n",
            "٢جا و٦ک٥ 5٧تری سرارد و رِرا مطالح نرده رسی سی ممخمای راملُم حمیری حصرتمملممالمه + اصيات با نلای رنریٰا ~دم نسیادُکاتدریُ ~ انوا ئم ارحط حُدس م حُوانای آرهبر سّ با کمالا- اتا مربوا رنّت٢٠، ٥ ؟~حبم ا ر ا ء رری رسلدت رنرییسی_ ائا ر سانمن دسما , نرتنان اين جُراا ی ناسِ ا.ننمال سب خنلت سُلیاستُنا د.ابّمایِِبیماررحُرد مُوییس د ردان نُرتیی سراسارنارارنٰا ندنا~ِ دیلمر زو ملمِتل ال اتیدا دیی ا اسْنما.ربان بی رون ازکاعز , ماءنانننا ُرد تا/n\n",
            "*****************************************\n",
            "٥8٣11بهنام حضرت دوسترا مطالعهقبل از شروع به تمرين مواردهنرجوی گرامیمراحل تمرين به اين نكات عملکنید درعینمودهيارىشماتمرینِامید است با تلاشنمانیدحق بتوانيم از خط خوش وخوانايى بهره مند شويد ابتدا خوب وبا دقت نگاهچندبار ازروی درس کپی کرده وبه آرامی بنویسید (برای کپی کردن ازکاغذ پوستی یا کالک استفاده کنید .سپس با دقت رونویسی کنید-3تمرينات اين جزوهپس از به اتمام رساندن درسهاكتب مختلف مثل كتاب هاى فارسىتوانید از متنمیتمرين استفاده كنيددوره ابتدایینیز مدادبراى نوشتن از كاغذ خط دار استفاده كنيد-5روان نویس براى نوشتن مذاسبخودکار خودنویسفستنددر نوشتن عجله نكرده وآهسته تمرين كنيد ,-6قبل از اينكه درس راكاملا تمرين نكرده و فرانگرفتهايد درس بعدرا شروعزیرتمامیمداوم کنیددایجیتنکنید /n\n",
            "*****************************************\n",
            "٩ 3٣t1آمین است -ابهنا حضرت درمیتدکات مراعل لمرده٩٠ ١ د زتبذ زتروع به ئمرينملرحرى كرامىنرین,خرائایخط مرترتذر وتمرين مذوم نما ربرى مترث مق بتوتهمنفت دکهابدا خربعد استداده کلب )كردن ازكاعذ برملىآرامی پنویسید | ارای کبیروی درس کبی کردا وجنبارنفت رولوسی کالل ءنارمی نوره اندابی حبت لمنملل قذبمای نُبررا می تولبدنىرىلاتبه اذمام رسلذپی اژءمننلاا کتسل `نا   ممآذدروان تریس لراى لرنننصشاده كلبد ولبز مداء ٠ خردكار خرتنوسرى لرخئنعجله ذعرده وامته نمرر کلیلبر نوتسسررع لکبلعل ذری بماس زاتعه درسر كملاترين تكرده وفرالكرمهبن مغنازنه ار/n\n"
          ]
        }
      ]
    },
    {
      "cell_type": "code",
      "source": [],
      "metadata": {
        "id": "dz0sMIXBKXmW"
      },
      "execution_count": null,
      "outputs": []
    }
  ]
}